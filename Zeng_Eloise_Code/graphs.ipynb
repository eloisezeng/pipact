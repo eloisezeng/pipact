{
 "cells": [
  {
   "cell_type": "markdown",
   "metadata": {},
   "source": [
    "# Reading CSV Files, Graphing, and Creating DataFrames"
   ]
  },
  {
   "cell_type": "code",
   "execution_count": 1,
   "metadata": {},
   "outputs": [],
   "source": [
    "import pandas as pd\n",
    "import numpy as np\n",
    "import matplotlib.pyplot as plt\n",
    "%matplotlib inline"
   ]
  },
  {
   "cell_type": "markdown",
   "metadata": {},
   "source": [
    "## Store RSSI values from csv files when raspberry pis are 3 ft apart. "
   ]
  },
  {
   "cell_type": "code",
   "execution_count": 2,
   "metadata": {},
   "outputs": [
    {
     "data": {
      "text/plain": [
       "0.7280792244674409"
      ]
     },
     "execution_count": 2,
     "metadata": {},
     "output_type": "execute_result"
    }
   ],
   "source": [
    "f3t14d1 = pd.read_csv(\"../Zeng_Eloise_CollectedData/day1t14/day1test1_20200711T142310.csv\")\n",
    "f3t14d1 = f3t14d1.RSSI # Get RSSI values from csv file\n",
    "f3t18d1 = pd.read_csv(\"../Zeng_Eloise_CollectedData/day1t18/day1test1t6_20200711T184700.csv\")\n",
    "f3t18d1 = f3t18d1.RSSI\n",
    "f3t10d2 = pd.read_csv(\"../Zeng_Eloise_CollectedData/day2t10/day2test3t10_20200712T103445.csv\")\n",
    "f3t10d2 = f3t10d2.RSSI\n",
    "f3t12d2 = pd.read_csv(\"../Zeng_Eloise_CollectedData/day2t12/day2test3t12_20200712T124020.csv\")\n",
    "f3t12d2 = f3t12d2.RSSI\n",
    "f3t17d2 = pd.read_csv(\"../Zeng_Eloise_CollectedData/day2t12/day2test3t12_20200712T124020.csv\")\n",
    "f3t17d2 = f3t17d2.RSSI\n",
    "f3t20d2 = pd.read_csv(\"../Zeng_Eloise_CollectedData/day2t20/f3t20d2_20200712T201534.csv\")\n",
    "f3t20d2 = f3t20d2.RSSI\n",
    "f3t12d3 = pd.read_csv(\"../Zeng_Eloise_CollectedData/day3t12/f3t12d3_20200713T123551.csv\")\n",
    "f3t12d3 = f3t12d3.RSSI\n",
    "f3t16d3 = pd.read_csv(\"../Zeng_Eloise_CollectedData/day3t16/f3t16d3_20200713T163924.csv\")\n",
    "f3t16d3 = f3t16d3.RSSI\n",
    "f3t18d3 = pd.read_csv(\"../Zeng_Eloise_CollectedData/day3t18/f3t18d3_20200713T181923.csv\")\n",
    "f3t18d3 = f3t18d3.RSSI\n",
    "f3t20d3 = pd.read_csv(\"../Zeng_Eloise_CollectedData/day3t20/f4t20d3_20200713T201521.csv\")\n",
    "f3t20d3 = f3t20d3.RSSI\n",
    "f3t14d4 = pd.read_csv(\"../Zeng_Eloise_CollectedData/day4t14/f3t14d4_20200714T135918.csv\")\n",
    "f3t14d4 = f3t14d4.RSSI\n",
    "f3t18d4 = pd.read_csv(\"../Zeng_Eloise_CollectedData/day4t18/f3t18d4_20200714T182130.csv\")\n",
    "f3t18d4 = f3t18d4.RSSI\n",
    "f3t19d4 = pd.read_csv(\"../Zeng_Eloise_CollectedData/day4t19/f3t19d4_20200714T194227.csv\")\n",
    "f3t19d4 = f3t19d4.RSSI\n",
    "f3t12d5 = pd.read_csv(\"../Zeng_Eloise_CollectedData/day5t12/f3t12d5_20200715T124523.csv\")\n",
    "f3t12d5 = f3t12d5.RSSI\n",
    "f3t15d5 = pd.read_csv(\"../Zeng_Eloise_CollectedData/day5t15/f3t15d5_20200715T155013.csv\")\n",
    "f3t15d5 = f3t15d5.RSSI\n",
    "f3t18d5 = pd.read_csv(\"../Zeng_Eloise_CollectedData/day5t18/f3t18d5_20200715T182313.csv\")\n",
    "f3t18d5 = f3t18d5.RSSI\n",
    "f3t16d6 = pd.read_csv(\"../Zeng_Eloise_CollectedData/day6t16/f3t16d6_20200716T155559.csv\")\n",
    "f3t16d6 = f3t16d6.RSSI\n",
    "f3t20d6 = pd.read_csv(\"../Zeng_Eloise_CollectedData/day6t20/f3t20d6_20200716T201236.csv\")\n",
    "f3t20d6 = f3t20d6.RSSI\n",
    "f3t12d7 = pd.read_csv(\"../Zeng_Eloise_CollectedData/day7t12/f3t12d7_20200718T122305.csv\")\n",
    "f3t12d7 = f3t12d7.RSSI\n",
    "f3t16d7 = pd.read_csv(\"../Zeng_Eloise_CollectedData/day7t16/f4t16d7_20200718T164027.csv\")\n",
    "f3t16d7 = f3t16d7.RSSI\n",
    "f3t19d7 = pd.read_csv(\"../Zeng_Eloise_CollectedData/day7t19/f3t19d7_20200718T192930.csv\")\n",
    "f3t19d7 = f3t19d7.RSSI\n",
    "\n",
    "# Concatenate columns RSSI values into DataFrame\n",
    "f3_RSSI = pd.concat([f3t14d1, f3t18d1, f3t10d2, f3t12d2, \n",
    "                     f3t17d2, f3t20d2, f3t12d3, f3t16d3,\n",
    "                     f3t18d3, f3t20d3, f3t14d4, f3t18d4,\n",
    "                     f3t19d4, f3t12d5, f3t15d5, f3t18d5,\n",
    "                     f3t16d6, f3t20d6, f3t12d7, f3t16d7,\n",
    "                     f3t19d7], axis=1, sort=False)\n",
    "f3_RSSI.std().min()"
   ]
  },
  {
   "cell_type": "code",
   "execution_count": 3,
   "metadata": {},
   "outputs": [
    {
     "data": {
      "image/png": "[encoded data removed]",
      "text/plain": [
       "<Figure size 432x288 with 1 Axes>"
      ]
     },
     "metadata": {
      "needs_background": "light"
     },
     "output_type": "display_data"
    }
   ],
   "source": [
    "font = {'family': 'Arial', # Font style for x and y labels\n",
    "        'weight': 'bold',\n",
    "        'size': 16,\n",
    "        }\n",
    "hist3 = plt.hist(f3_RSSI) # Plot histogram\n",
    "plt.xlabel(\"RSSI at 3 ft\", fontdict=font) # Label x axis\n",
    "plt.ylabel(\"# of Occurences\", fontdict=font) # Label y axis\n",
    "plt.show()"
   ]
  },
  {
   "cell_type": "markdown",
   "metadata": {},
   "source": [
    "## Store RSSI values from csv files when raspberry pis are 4 ft apart"
   ]
  },
  {
   "cell_type": "code",
   "execution_count": 4,
   "metadata": {},
   "outputs": [],
   "source": [
    "f4t14d1 = pd.read_csv(\"../Zeng_Eloise_CollectedData/day1t14/day1test2_20200711T142813.csv\")\n",
    "f4t14d1 = f4t14d1.RSSI\n",
    "f4t18d1 = pd.read_csv(\"../Zeng_Eloise_CollectedData/day1t18/day1test2t6_20200711T185040.csv\")\n",
    "f4t18d1 = f4t18d1.RSSI\n",
    "f4t10d2 = pd.read_csv(\"../Zeng_Eloise_CollectedData/day2t10/day2test4t10_20200712T103754.csv\")\n",
    "f4t10d2 = f4t10d2.RSSI\n",
    "f4t12d2 = pd.read_csv(\"../Zeng_Eloise_CollectedData/day2t12/day2test4t12_20200712T124300.csv\")\n",
    "f4t12d2 = f4t12d2.RSSI\n",
    "f4t17d2 = pd.read_csv(\"../Zeng_Eloise_CollectedData/day2t17/f4t5d3_20200712T165600.csv\")\n",
    "f4t17d2 = f4t17d2.RSSI\n",
    "f4t20d2 = pd.read_csv(\"../Zeng_Eloise_CollectedData/day2t20/f4t20d2_20200712T201812.csv\")\n",
    "f4t20d2 = f4t20d2.RSSI\n",
    "f4t12d3 = pd.read_csv(\"../Zeng_Eloise_CollectedData/day3t12/f4t12d3_20200713T123803.csv\")\n",
    "f4t12d3 = f4t12d3.RSSI\n",
    "f4t16d3 = pd.read_csv(\"../Zeng_Eloise_CollectedData/day3t16/f4t16d3_20200713T164128.csv\")\n",
    "f4t16d3 = f4t16d3.RSSI\n",
    "f4t18d3 = pd.read_csv(\"../Zeng_Eloise_CollectedData/day3t18/f4t18d3_20200713T182111.csv\")\n",
    "f4t18d3 = f4t18d3.RSSI\n",
    "f4t20d3 = pd.read_csv(\"../Zeng_Eloise_CollectedData/day3t20/f4t20d3_20200713T201521.csv\")\n",
    "f4t20d3 = f4t20d3.RSSI\n",
    "f4t14d4 = pd.read_csv(\"../Zeng_Eloise_CollectedData/day4t14/f4t14d4_20200714T140129.csv\")\n",
    "f4t14d4 = f4t14d4.RSSI\n",
    "f4t18d4 = pd.read_csv(\"../Zeng_Eloise_CollectedData/day4t18/f3t18d4_20200714T182130.csv\")\n",
    "f4t18d4 = f4t18d4.RSSI\n",
    "f4t19d4 = pd.read_csv(\"../Zeng_Eloise_CollectedData/day4t19/f4t19d4_20200714T194413.csv\")\n",
    "f4t19d4 = f4t19d4.RSSI\n",
    "f4t12d5 = pd.read_csv(\"../Zeng_Eloise_CollectedData/day5t12/f4t12d5_20200715T124706.csv\")\n",
    "f4t12d5 = f4t12d5.RSSI\n",
    "f4t15d5 = pd.read_csv(\"../Zeng_Eloise_CollectedData/day5t15/f4t15d5_20200715T155227.csv\")\n",
    "f4t15d5 = f4t15d5.RSSI\n",
    "# f4t18d5 = pd.read_csv(\"../Zeng_Eloise_CollectedData/day5t18/f4t18d5_20200715T182516.csv\")\n",
    "# f4t18d5 = f4t18d5.RSSI # This csv file is empty. IDK why.\n",
    "f4t16d6 = pd.read_csv(\"../Zeng_Eloise_CollectedData/day6t16/f4t16d6_20200716T155821.csv\")\n",
    "f4t16d6 = f4t16d6.RSSI\n",
    "f4t20d6 = pd.read_csv(\"../Zeng_Eloise_CollectedData/day6t20/f4t20d6_20200716T201459.csv\")\n",
    "f4t20d6 = f4t20d6.RSSI\n",
    "f4t12d7 = pd.read_csv(\"../Zeng_Eloise_CollectedData/day7t12/f4t12d7_20200718T122515.csv\")\n",
    "f4t12d7 = f4t12d7.RSSI\n",
    "f4t16d7 = pd.read_csv(\"../Zeng_Eloise_CollectedData/day7t16/f4t16d7_20200718T164027.csv\")\n",
    "f4t16d7 = f4t16d7.RSSI\n",
    "f4t19d7 = pd.read_csv(\"../Zeng_Eloise_CollectedData/day7t19/f3t19d7_20200718T192930.csv\")\n",
    "f4t19d7 = f4t19d7.RSSI\n",
    "\n",
    "f4_RSSI = pd.concat([f4t14d1, f4t18d1, f4t10d2, f4t12d2, \n",
    "                     f4t17d2, f4t20d2, f4t12d3, f4t16d3,\n",
    "                     f4t18d3, f4t20d3, f4t14d4, f4t18d4,\n",
    "                     f4t19d4, f4t12d5, f4t15d5, f4t16d6, \n",
    "                     f4t20d6, f4t12d7, f4t16d7, f4t19d7], axis=1, sort=False)"
   ]
  },
  {
   "cell_type": "code",
   "execution_count": 5,
   "metadata": {},
   "outputs": [
    {
     "data": {
      "image/png": "[encoded data removed]",
      "text/plain": [
       "<Figure size 432x288 with 1 Axes>"
      ]
     },
     "metadata": {
      "needs_background": "light"
     },
     "output_type": "display_data"
    }
   ],
   "source": [
    "hist4 = plt.hist(f4_RSSI)\n",
    "plt.xlabel(\"RSSI at 4 ft\", fontdict=font)\n",
    "plt.ylabel(\"# of Occurences\", fontdict=font)\n",
    "plt.show()"
   ]
  },
  {
   "cell_type": "markdown",
   "metadata": {},
   "source": [
    "## Store RSSI values from csv files when raspberry pis are 5 ft apart"
   ]
  },
  {
   "cell_type": "code",
   "execution_count": 6,
   "metadata": {},
   "outputs": [],
   "source": [
    "f5t14d1 = pd.read_csv(\"../Zeng_Eloise_CollectedData/day1t14/day1test3_20200711T143210.csv\")\n",
    "f5t14d1 = f5t14d1.RSSI\n",
    "f5t18d1 = pd.read_csv(\"../Zeng_Eloise_CollectedData/day1t18/day1test3t6_20200711T185649.csv\")\n",
    "f5t18d1 = f5t18d1.RSSI\n",
    "f5t10d2 = pd.read_csv(\"../Zeng_Eloise_CollectedData/day2t10/day2test5t10_20200712T104132.csv\")\n",
    "f5t10d2 = f5t10d2.RSSI\n",
    "f5t12d2 = pd.read_csv(\"../Zeng_Eloise_CollectedData/day2t12/day2test5t12_20200712T124522.csv\")\n",
    "f5t12d2 = f5t12d2.RSSI\n",
    "f5t17d2 = pd.read_csv(\"../Zeng_Eloise_CollectedData/day2t17/f5t5d3_20200712T165823.csv\")\n",
    "f5t17d2 = f5t17d2.RSSI\n",
    "f5t20d2 = pd.read_csv(\"../Zeng_Eloise_CollectedData/day2t20/f5t20d2_20200712T202021.csv\")\n",
    "f5t20d2 = f5t20d2.RSSI\n",
    "f5t12d3 = pd.read_csv(\"../Zeng_Eloise_CollectedData/day3t12/f5t12d3_20200713T124016.csv\")\n",
    "f5t12d3 = f5t12d3.RSSI\n",
    "f5t16d3 = pd.read_csv(\"../Zeng_Eloise_CollectedData/day3t16/f5t16d3_20200713T164323.csv\")\n",
    "f5t16d3 = f5t16d3.RSSI\n",
    "f5t18d3 = pd.read_csv(\"../Zeng_Eloise_CollectedData/day3t18/f5t18d3_20200713T182318.csv\")\n",
    "f5t18d3 = f5t18d3.RSSI\n",
    "f5t20d3 = pd.read_csv(\"../Zeng_Eloise_CollectedData/day3t20/f5t20d3_20200713T201737.csv\")\n",
    "f5t20d3 = f5t20d3.RSSI\n",
    "f5t14d4 = pd.read_csv(\"../Zeng_Eloise_CollectedData/day4t14/f5t14d4_20200714T140340.csv\")\n",
    "f5t14d4 = f5t14d4.RSSI\n",
    "f5t18d4 = pd.read_csv(\"../Zeng_Eloise_CollectedData/day4t18/f5t18d4_20200714T182552.csv\")\n",
    "f5t18d4 = f5t18d4.RSSI\n",
    "f5t19d4 = pd.read_csv(\"../Zeng_Eloise_CollectedData/day4t19/f5t19d4_20200714T194622.csv\")\n",
    "f5t19d4 = f5t19d4.RSSI\n",
    "f5t12d5 = pd.read_csv(\"../Zeng_Eloise_CollectedData/day5t12/f5t12d5_20200715T124903.csv\")\n",
    "f5t12d5 = f5t12d5.RSSI\n",
    "f5t15d5 = pd.read_csv(\"../Zeng_Eloise_CollectedData/day5t15/f5t15d5_20200715T155449.csv\")\n",
    "f5t15d5 = f5t15d5.RSSI\n",
    "f5t18d5 = pd.read_csv(\"../Zeng_Eloise_CollectedData/day5t18/f5t18d5_20200715T182952.csv\")\n",
    "f5t18d5 = f5t18d5.RSSI\n",
    "f5t16d6 = pd.read_csv(\"../Zeng_Eloise_CollectedData/day6t16/f5t16d6_20200716T160019.csv\")\n",
    "f5t16d6 = f5t16d6.RSSI\n",
    "f5t20d6 = pd.read_csv(\"../Zeng_Eloise_CollectedData/day6t20/f5t20d6_20200716T201654.csv\")\n",
    "f5t20d6 = f5t20d6.RSSI\n",
    "f5t12d7 = pd.read_csv(\"../Zeng_Eloise_CollectedData/day7t12/f5t12d7_20200718T122713.csv\")\n",
    "f5t12d7 = f5t12d7.RSSI\n",
    "f5t16d7 = pd.read_csv(\"../Zeng_Eloise_CollectedData/day7t16/f5t16d7_20200718T164313.csv\")\n",
    "f5t16d7 = f5t16d7.RSSI\n",
    "f5t19d7 = pd.read_csv(\"../Zeng_Eloise_CollectedData/day7t19/f3t19d7_20200718T192930.csv\")\n",
    "f5t19d7 = f5t19d7.RSSI\n",
    "\n",
    "f5_RSSI = pd.concat([f5t14d1, f5t18d1, f5t10d2, f5t12d2, \n",
    "                     f5t17d2, f5t20d2, f5t12d3, f5t16d3,\n",
    "                     f5t18d3, f5t20d3, f5t14d4, f5t18d4,\n",
    "                     f5t19d4, f5t12d5, f5t15d5, f5t18d5,\n",
    "                     f5t16d6, f5t20d6, f5t12d7, f5t16d7, \n",
    "                     f5t19d7], axis=1, sort=False)"
   ]
  },
  {
   "cell_type": "code",
   "execution_count": 7,
   "metadata": {},
   "outputs": [
    {
     "data": {
      "image/png": "[encoded data removed]",
      "text/plain": [
       "<Figure size 432x288 with 1 Axes>"
      ]
     },
     "metadata": {
      "needs_background": "light"
     },
     "output_type": "display_data"
    }
   ],
   "source": [
    "hist5 = plt.hist(f5_RSSI, bins=None)\n",
    "plt.xlabel(\"RSSI at 5 ft\", fontdict=font)\n",
    "plt.ylabel(\"# of Occurences\", fontdict=font)\n",
    "plt.show()"
   ]
  },
  {
   "cell_type": "markdown",
   "metadata": {},
   "source": [
    "## Store RSSI values from csv files when raspberry pis are 6 ft apart"
   ]
  },
  {
   "cell_type": "code",
   "execution_count": 8,
   "metadata": {},
   "outputs": [],
   "source": [
    "f6t14d1 = pd.read_csv(\"../Zeng_Eloise_CollectedData/day1t14/day1test4_20200711T153100.csv\")\n",
    "f6t14d1 = f6t14d1.RSSI\n",
    "f6t18d1 = pd.read_csv(\"../Zeng_Eloise_CollectedData/day1t18/day1test4t6_20200711T185927.csv\")\n",
    "f6t18d1 = f6t18d1.RSSI\n",
    "f6t10d2 = pd.read_csv(\"../Zeng_Eloise_CollectedData/day2t10/day2test6t10_20200712T104535.csv\")\n",
    "f6t10d2 = f6t10d2.RSSI\n",
    "f6t12d2 = pd.read_csv(\"../Zeng_Eloise_CollectedData/day2t12/day2test6t12_20200712T124744.csv\")\n",
    "f6t12d2 = f6t12d2.RSSI\n",
    "f6t17d2 = pd.read_csv(\"../Zeng_Eloise_CollectedData/day2t17/f6t5d3_20200712T170117.csv\")\n",
    "f6t17d2 = f6t17d2.RSSI\n",
    "f6t20d2 = pd.read_csv(\"../Zeng_Eloise_CollectedData/day2t20/f6t20d2_20200712T202228.csv\")\n",
    "f6t20d2 = f6t20d2.RSSI\n",
    "f6t12d3 = pd.read_csv(\"../Zeng_Eloise_CollectedData/day3t12/f6t12d3_20200713T124300.csv\")\n",
    "f6t12d3 = f6t12d3.RSSI\n",
    "f6t16d3 = pd.read_csv(\"../Zeng_Eloise_CollectedData/day3t16/f6t16d3_20200713T164514.csv\")\n",
    "f6t16d3 = f6t16d3.RSSI\n",
    "f6t18d3 = pd.read_csv(\"../Zeng_Eloise_CollectedData/day3t18/f6t18d3_20200713T182523.csv\")\n",
    "f6t18d3 = f6t18d3.RSSI\n",
    "f6t20d3 = pd.read_csv(\"../Zeng_Eloise_CollectedData/day3t20/f6t20d3_20200713T201935.csv\")\n",
    "f6t20d3 = f6t20d3.RSSI\n",
    "f6t14d4 = pd.read_csv(\"../Zeng_Eloise_CollectedData/day4t14/f6t14d4_20200714T140543.csv\")\n",
    "f6t14d4 = f6t14d4.RSSI\n",
    "f6t18d4 = pd.read_csv(\"../Zeng_Eloise_CollectedData/day4t18/f6t18d4_20200714T182809.csv\")\n",
    "f6t18d4 = f6t18d4.RSSI\n",
    "f6t19d4 = pd.read_csv(\"../Zeng_Eloise_CollectedData/day4t19/f6t19d4_20200714T194815.csv\")\n",
    "f6t19d4 = f6t19d4.RSSI\n",
    "f6t12d5 = pd.read_csv(\"../Zeng_Eloise_CollectedData/day5t12/f6t12d5_20200715T125054.csv\")\n",
    "f6t12d5 = f6t12d5.RSSI\n",
    "f6t15d5 = pd.read_csv(\"../Zeng_Eloise_CollectedData/day5t15/f6t15d5_20200715T155654.csv\")\n",
    "f6t15d5 = f6t15d5.RSSI\n",
    "f6t18d5 = pd.read_csv(\"../Zeng_Eloise_CollectedData/day5t18/f6t18d5_20200715T183141.csv\")\n",
    "f6t18d5 = f6t18d5.RSSI\n",
    "f6t16d6 = pd.read_csv(\"../Zeng_Eloise_CollectedData/day6t16/f6t16d6_20200716T160240.csv\")\n",
    "f6t16d6 = f6t16d6.RSSI\n",
    "f6t20d6 = pd.read_csv(\"../Zeng_Eloise_CollectedData/day6t20/f6t20d6_20200716T201854.csv\")\n",
    "f6t20d6 = f6t20d6.RSSI\n",
    "f6t12d7 = pd.read_csv(\"../Zeng_Eloise_CollectedData/day7t12/f6t12d7_20200718T122920.csv\")\n",
    "f6t12d7 = f6t12d7.RSSI\n",
    "f6t16d7 = pd.read_csv(\"../Zeng_Eloise_CollectedData/day7t16/f6t16d7_20200718T164513.csv\")\n",
    "f6t16d7 = f6t16d7.RSSI\n",
    "f6t19d7 = pd.read_csv(\"../Zeng_Eloise_CollectedData/day7t19/f6t19d7_20200718T193507.csv\")\n",
    "f6t19d7 = f6t19d7.RSSI\n",
    "\n",
    "f6_RSSI = pd.concat([f6t14d1, f6t18d1, f6t10d2, f6t12d2, \n",
    "                     f6t17d2, f6t20d2, f6t12d3, f6t16d3,\n",
    "                     f6t18d3, f6t20d3, f6t14d4, f6t18d4,\n",
    "                     f6t19d4, f6t12d5, f6t15d5, f6t18d5,\n",
    "                     f6t16d6, f6t20d6, f6t12d7, f6t16d7,\n",
    "                     f6t19d7], axis=1, sort=False)"
   ]
  },
  {
   "cell_type": "code",
   "execution_count": 9,
   "metadata": {},
   "outputs": [
    {
     "data": {
      "image/png": "[encoded data removed]",
      "text/plain": [
       "<Figure size 432x288 with 1 Axes>"
      ]
     },
     "metadata": {
      "needs_background": "light"
     },
     "output_type": "display_data"
    }
   ],
   "source": [
    "hist6 = plt.hist(f6_RSSI, bins=None)\n",
    "plt.xlabel(\"RSSI at 6 ft\", fontdict=font)\n",
    "plt.ylabel(\"# of Occurences\", fontdict=font)\n",
    "plt.show()"
   ]
  },
  {
   "cell_type": "markdown",
   "metadata": {},
   "source": [
    "## Store RSSI values from csv files when raspberry pis are 7 ft apart"
   ]
  },
  {
   "cell_type": "code",
   "execution_count": 10,
   "metadata": {},
   "outputs": [],
   "source": [
    "f7t14d1 = pd.read_csv(\"../Zeng_Eloise_CollectedData/day1t14/day1test5_20200711T153714.csv\")\n",
    "f7t14d1 = f7t14d1.RSSI\n",
    "f7t18d1 = pd.read_csv(\"../Zeng_Eloise_CollectedData/day1t18/day1test5t6_20200711T190310.csv\")\n",
    "f7t18d1 = f7t18d1.RSSI\n",
    "f7t10d2 = pd.read_csv(\"../Zeng_Eloise_CollectedData/day2t10/day2test7t10_20200712T104957.csv\")\n",
    "f7t10d2 = f7t10d2.RSSI\n",
    "f7t12d2 = pd.read_csv(\"../Zeng_Eloise_CollectedData/day2t12/day2test7t12_20200712T125016.csv\")\n",
    "f7t12d2 = f7t12d2.RSSI\n",
    "f7t17d2 = pd.read_csv(\"../Zeng_Eloise_CollectedData/day2t17/f7t5d3_20200712T170348.csv\")\n",
    "f7t17d2 = f7t17d2.RSSI\n",
    "f7t20d2 = pd.read_csv(\"../Zeng_Eloise_CollectedData/day2t20/f7t20d2_20200712T202452.csv\")\n",
    "f7t20d2 = f7t20d2.RSSI\n",
    "f7t12d3 = pd.read_csv(\"../Zeng_Eloise_CollectedData/day3t12/f7t12d3_20200713T124456.csv\")\n",
    "f7t12d3 = f7t12d3.RSSI\n",
    "f7t16d3 = pd.read_csv(\"../Zeng_Eloise_CollectedData/day3t16/f7t16d3_20200713T164703.csv\")\n",
    "f7t16d3 = f7t16d3.RSSI\n",
    "f7t18d3 = pd.read_csv(\"../Zeng_Eloise_CollectedData/day3t18/f6t18d3_20200713T182523.csv\")\n",
    "f7t18d3 = f7t18d3.RSSI\n",
    "f7t20d3 = pd.read_csv(\"../Zeng_Eloise_CollectedData/day3t20/f7t20d3_20200713T202148.csv\")\n",
    "f7t20d3 = f7t20d3.RSSI\n",
    "f7t14d4 = pd.read_csv(\"../Zeng_Eloise_CollectedData/day4t14/f7t14d4_20200714T140743.csv\")\n",
    "f7t14d4 = f7t14d4.RSSI\n",
    "f7t18d4 = pd.read_csv(\"../Zeng_Eloise_CollectedData/day4t18/f7t18d4_20200714T183023.csv\")\n",
    "f7t18d4 = f7t18d4.RSSI\n",
    "f7t19d4 = pd.read_csv(\"../Zeng_Eloise_CollectedData/day4t19/f7t19d4_20200714T194952.csv\")\n",
    "f7t19d4 = f7t19d4.RSSI\n",
    "f7t12d5 = pd.read_csv(\"../Zeng_Eloise_CollectedData/day5t12/f7t12d5_20200715T125351.csv\")\n",
    "f7t12d5 = f7t12d5.RSSI\n",
    "f7t15d5 = pd.read_csv(\"../Zeng_Eloise_CollectedData/day5t15/f7t15d5_20200715T155858.csv\")\n",
    "f7t15d5 = f7t15d5.RSSI\n",
    "f7t18d5 = pd.read_csv(\"../Zeng_Eloise_CollectedData/day5t18/f7t18d5_20200715T183333.csv\")\n",
    "f7t18d5 = f7t18d5.RSSI\n",
    "f7t16d6 = pd.read_csv(\"../Zeng_Eloise_CollectedData/day6t16/f7t16d6_20200716T160442.csv\")\n",
    "f7t16d6 = f7t16d6.RSSI\n",
    "f7t20d6 = pd.read_csv(\"../Zeng_Eloise_CollectedData/day6t20/f7t20d6_20200716T202052.csv\")\n",
    "f7t20d6 = f7t20d6.RSSI\n",
    "f7t12d7 = pd.read_csv(\"../Zeng_Eloise_CollectedData/day7t12/f7t12d7_20200718T123234.csv\")\n",
    "f7t12d7 = f7t12d7.RSSI\n",
    "f7t16d7 = pd.read_csv(\"../Zeng_Eloise_CollectedData/day7t16/f7t16d7_20200718T164735.csv\")\n",
    "f7t16d7 = f7t16d7.RSSI\n",
    "f7t19d7 = pd.read_csv(\"../Zeng_Eloise_CollectedData/day7t19/f7t19d7_20200718T193717.csv\")\n",
    "f7t19d7 = f7t19d7.RSSI\n",
    "\n",
    "f7_RSSI = pd.concat([f7t14d1, f7t18d1, f7t10d2, f7t12d2, \n",
    "                     f7t17d2, f7t20d2, f7t12d3, f7t16d3,\n",
    "                     f7t18d3, f7t20d3, f7t14d4, f7t18d4,\n",
    "                     f7t19d4, f7t12d5, f7t15d5, f7t18d5,\n",
    "                     f7t16d6, f7t12d7, f7t16d7, f7t19d7], axis=1, sort=False)\n",
    "# f7t20d6 is an anomaly"
   ]
  },
  {
   "cell_type": "code",
   "execution_count": 11,
   "metadata": {},
   "outputs": [
    {
     "data": {
      "image/png": "[encoded data removed]",
      "text/plain": [
       "<Figure size 432x288 with 1 Axes>"
      ]
     },
     "metadata": {
      "needs_background": "light"
     },
     "output_type": "display_data"
    }
   ],
   "source": [
    "hist7 = plt.hist(f7_RSSI, bins=None)\n",
    "plt.xlabel(\"RSSI at 7 ft\", fontdict=font)\n",
    "plt.ylabel(\"# of Occurences\", fontdict=font)\n",
    "plt.show()"
   ]
  },
  {
   "cell_type": "markdown",
   "metadata": {},
   "source": [
    "## Store RSSI values from csv files when raspberry pis are 8 ft apart"
   ]
  },
  {
   "cell_type": "code",
   "execution_count": 12,
   "metadata": {},
   "outputs": [],
   "source": [
    "f8t14d1 = pd.read_csv(\"../Zeng_Eloise_CollectedData/day1t14/day1test6_20200711T154055.csv\")\n",
    "f8t14d1 = f8t14d1.RSSI\n",
    "f8t18d1 = pd.read_csv(\"../Zeng_Eloise_CollectedData/day1t18/day1test6t6_20200711T190655.csv\")\n",
    "f8t18d1 = f8t18d1.RSSI\n",
    "f8t10d2 = pd.read_csv(\"../Zeng_Eloise_CollectedData/day2t10/day2test8t10_20200712T105342.csv\")\n",
    "f8t10d2 = f8t10d2.RSSI\n",
    "f8t12d2 = pd.read_csv(\"../Zeng_Eloise_CollectedData/day2t12/day2test8t12_20200712T125223.csv\")\n",
    "f8t12d2 = f8t12d2.RSSI\n",
    "f8t17d2 = pd.read_csv(\"../Zeng_Eloise_CollectedData/day2t17/f8t5d3_20200712T170632.csv\")\n",
    "f8t17d2 = f8t17d2.RSSI\n",
    "f8t20d2 = pd.read_csv(\"../Zeng_Eloise_CollectedData/day2t20/f8t20d2_20200712T202713.csv\")\n",
    "f8t20d2 = f8t20d2.RSSI\n",
    "f8t12d3 = pd.read_csv(\"../Zeng_Eloise_CollectedData/day3t12/f8t12d3_20200713T124723.csv\")\n",
    "f8t12d3 = f8t12d3.RSSI\n",
    "f8t16d3 = pd.read_csv(\"../Zeng_Eloise_CollectedData/day3t16/f8t16d3_20200713T164855.csv\")\n",
    "f8t16d3 = f8t16d3.RSSI\n",
    "f8t18d3 = pd.read_csv(\"../Zeng_Eloise_CollectedData/day3t18/f8t18d3_20200713T182943.csv\")\n",
    "f8t18d3 = f8t18d3.RSSI\n",
    "f8t20d3 = pd.read_csv(\"../Zeng_Eloise_CollectedData/day3t20/f8t20d3_20200713T202338.csv\")\n",
    "f8t20d3 = f8t20d3.RSSI\n",
    "f8t14d4 = pd.read_csv(\"../Zeng_Eloise_CollectedData/day4t14/f8t14d4_20200714T141018.csv\")\n",
    "f8t14d4 = f8t14d4.RSSI\n",
    "f8t18d4 = pd.read_csv(\"../Zeng_Eloise_CollectedData/day4t18/f8t18d4_20200714T183243.csv\")\n",
    "f8t18d4 = f8t18d4.RSSI\n",
    "f8t19d4 = pd.read_csv(\"../Zeng_Eloise_CollectedData/day4t19/f8t19d4_20200714T195135.csv\")\n",
    "f8t19d4 = f8t19d4.RSSI\n",
    "f8t12d5 = pd.read_csv(\"../Zeng_Eloise_CollectedData/day5t12/f8t12d5_20200715T125551.csv\")\n",
    "f8t12d5 = f8t12d5.RSSI\n",
    "f8t15d5 = pd.read_csv(\"../Zeng_Eloise_CollectedData/day5t15/f8t15d5_20200715T160154.csv\")\n",
    "f8t15d5 = f8t15d5.RSSI\n",
    "f8t18d5 = pd.read_csv(\"../Zeng_Eloise_CollectedData/day5t18/f8t18d5_20200715T183544.csv\")\n",
    "f8t18d5 = f8t18d5.RSSI\n",
    "f8t16d6 = pd.read_csv(\"../Zeng_Eloise_CollectedData/day6t16/f8t16d6_20200716T160701.csv\")\n",
    "f8t16d6 = f8t16d6.RSSI\n",
    "f8t20d6 = pd.read_csv(\"../Zeng_Eloise_CollectedData/day6t20/f8t20d6_20200716T202251.csv\")\n",
    "f8t20d6 = f8t20d6.RSSI\n",
    "f8t12d7 = pd.read_csv(\"../Zeng_Eloise_CollectedData/day7t12/f8t12d7_20200718T123447.csv\")\n",
    "f8t12d7 = f8t12d7.RSSI\n",
    "f8t16d7 = pd.read_csv(\"../Zeng_Eloise_CollectedData/day7t16/f8t16d7_20200718T165055.csv\")\n",
    "f8t16d7 = f8t16d7.RSSI\n",
    "f8t19d7 = pd.read_csv(\"../Zeng_Eloise_CollectedData/day7t19/f8t19d7_20200718T193924.csv\")\n",
    "f8t19d7 = f8t19d7.RSSI\n",
    "\n",
    "f8_RSSI = pd.concat([f8t14d1, f8t18d1, f8t10d2, f8t12d2, \n",
    "                     f8t17d2, f8t20d2, f8t12d3, f8t16d3,\n",
    "                     f8t18d3, f8t20d3, f8t14d4, f8t18d4,\n",
    "                     f8t19d4, f8t12d5, f8t15d5, f8t18d5,\n",
    "                     f8t16d6, f8t20d6, f8t12d7, f8t16d7, \n",
    "                     f8t19d7], axis=1, sort=False)"
   ]
  },
  {
   "cell_type": "code",
   "execution_count": 13,
   "metadata": {},
   "outputs": [
    {
     "data": {
      "image/png": "[encoded data removed]",
      "text/plain": [
       "<Figure size 432x288 with 1 Axes>"
      ]
     },
     "metadata": {
      "needs_background": "light"
     },
     "output_type": "display_data"
    }
   ],
   "source": [
    "hist8 = plt.hist(f8_RSSI, bins=None)\n",
    "plt.xlabel(\"RSSI at 8 ft\", fontdict=font)\n",
    "plt.ylabel(\"# of Occurences\", fontdict=font)\n",
    "plt.show()"
   ]
  },
  {
   "cell_type": "markdown",
   "metadata": {},
   "source": [
    "## Store RSSI values from csv files when raspberry pis are 9 ft apart"
   ]
  },
  {
   "cell_type": "code",
   "execution_count": 14,
   "metadata": {},
   "outputs": [],
   "source": [
    "f9t14d1 = pd.read_csv(\"../Zeng_Eloise_CollectedData/day1t14/day1test7_20200711T154431.csv\")\n",
    "f9t14d1 = f9t14d1.RSSI\n",
    "f9t18d1 = pd.read_csv(\"../Zeng_Eloise_CollectedData/day1t18/day1test7t6_20200711T190948.csv\")\n",
    "f9t18d1 = f9t18d1.RSSI\n",
    "f9t10d2 = pd.read_csv(\"../Zeng_Eloise_CollectedData/day2t10/day2test9t10_20200712T105732.csv\")\n",
    "f9t10d2 = f9t10d2.RSSI\n",
    "f9t12d2 = pd.read_csv(\"../Zeng_Eloise_CollectedData/day2t12/day2test9t12_20200712T125505.csv\")\n",
    "f9t12d2 = f9t12d2.RSSI\n",
    "f9t17d2 = pd.read_csv(\"../Zeng_Eloise_CollectedData/day2t17/f9t5d3_20200712T171008.csv\")\n",
    "f9t17d2 = f9t17d2.RSSI\n",
    "f9t20d2 = pd.read_csv(\"../Zeng_Eloise_CollectedData/day2t20/f9t20d2_20200712T202929.csv\")\n",
    "f9t20d2 = f9t20d2.RSSI\n",
    "f9t12d3 = pd.read_csv(\"../Zeng_Eloise_CollectedData/day3t12/f9t12d3_20200713T124957.csv\")\n",
    "f9t12d3 = f9t12d3.RSSI\n",
    "f9t16d3 = pd.read_csv(\"../Zeng_Eloise_CollectedData/day3t16/f9t16d3_20200713T165045.csv\")\n",
    "f9t16d3 = f9t16d3.RSSI\n",
    "f9t18d3 = pd.read_csv(\"../Zeng_Eloise_CollectedData/day3t18/f9t18d3_20200713T183126.csv\")\n",
    "f9t18d3 = f9t18d3.RSSI\n",
    "f9t20d3 = pd.read_csv(\"../Zeng_Eloise_CollectedData/day3t20/f9t20d3_20200713T202536.csv\")\n",
    "f9t20d3 = f9t20d3.RSSI\n",
    "f9t14d4 = pd.read_csv(\"../Zeng_Eloise_CollectedData/day4t14/f9t14d4_20200714T141220.csv\")\n",
    "f9t14d4 = f9t14d4.RSSI\n",
    "f9t18d4 = pd.read_csv(\"../Zeng_Eloise_CollectedData/day4t18/f9t18d4_20200714T183501.csv\")\n",
    "f9t18d4 = f9t18d4.RSSI\n",
    "f9t19d4 = pd.read_csv(\"../Zeng_Eloise_CollectedData/day4t19/f9t19d4_20200714T195313.csv\")\n",
    "f9t19d4 = f9t19d4.RSSI\n",
    "f9t12d5 = pd.read_csv(\"../Zeng_Eloise_CollectedData/day5t12/f9t12d5_20200715T125749.csv\")\n",
    "f9t12d5 = f9t12d5.RSSI\n",
    "f9t15d5 = pd.read_csv(\"../Zeng_Eloise_CollectedData/day5t15/f9t15d5_20200715T160355.csv\")\n",
    "f9t15d5 = f9t15d5.RSSI\n",
    "f9t18d5 = pd.read_csv(\"../Zeng_Eloise_CollectedData/day5t18/f9t18d5_20200715T183742.csv\")\n",
    "f9t18d5 = f9t18d5.RSSI\n",
    "f9t16d6 = pd.read_csv(\"../Zeng_Eloise_CollectedData/day6t16/f9t16d6_20200716T160909.csv\")\n",
    "f9t16d6 = f9t16d6.RSSI\n",
    "f9t20d6 = pd.read_csv(\"../Zeng_Eloise_CollectedData/day6t20/f9t20d6_20200716T202452.csv\")\n",
    "f9t20d6 = f9t20d6.RSSI\n",
    "f9t12d7 = pd.read_csv(\"../Zeng_Eloise_CollectedData/day7t12/f8t12d7_20200718T123447.csv\")\n",
    "f9t12d7 = f9t12d7.RSSI\n",
    "f9t16d7 = pd.read_csv(\"../Zeng_Eloise_CollectedData/day7t16/f9t16d7_20200718T165252.csv\")\n",
    "f9t16d7 = f9t16d7.RSSI\n",
    "f9t19d7 = pd.read_csv(\"../Zeng_Eloise_CollectedData/day7t19/f9t19d7_20200718T194120.csv\")\n",
    "f9t19d7 = f9t19d7.RSSI\n",
    "\n",
    "f9_RSSI = pd.concat([f9t14d1, f9t18d1, f9t10d2, f9t12d2, \n",
    "                     f9t17d2, f9t20d2, f9t12d3, f9t16d3,\n",
    "                     f9t18d3, f9t20d3, f9t14d4, f9t18d4,\n",
    "                     f9t19d4, f9t12d5, f9t15d5, f9t18d5,\n",
    "                     f9t16d6, f9t20d6, f9t12d7, f9t16d7, \n",
    "                     f9t19d7], axis=1, sort=False)"
   ]
  },
  {
   "cell_type": "code",
   "execution_count": 15,
   "metadata": {},
   "outputs": [
    {
     "data": {
      "image/png": "[encoded data removed]",
      "text/plain": [
       "<Figure size 432x288 with 1 Axes>"
      ]
     },
     "metadata": {
      "needs_background": "light"
     },
     "output_type": "display_data"
    }
   ],
   "source": [
    "hist9 = plt.hist(f9_RSSI, bins=None)\n",
    "plt.xlabel(\"RSSI at 9 ft\", fontdict=font)\n",
    "plt.ylabel(\"# of Occurences\", fontdict=font)\n",
    "plt.show()"
   ]
  },
  {
   "cell_type": "markdown",
   "metadata": {},
   "source": [
    "## Plot mean of RSSI values for each distance and date"
   ]
  },
  {
   "cell_type": "code",
   "execution_count": 16,
   "metadata": {},
   "outputs": [
    {
     "data": {
      "image/png": "[encoded data removed]",
      "text/plain": [
       "<Figure size 432x288 with 1 Axes>"
      ]
     },
     "metadata": {
      "needs_background": "light"
     },
     "output_type": "display_data"
    }
   ],
   "source": [
    "f3_mean_RSSI = plt.hist(f3_RSSI.mean(), label='3 ft', color='#FF3333', alpha=0.7, bins=60)\n",
    "f4_mean_RSSI = plt.hist(f4_RSSI.mean(), label='4 ft', color='#FF7A41', alpha=0.7, bins=60)\n",
    "f5_mean_RSSI = plt.hist(f5_RSSI.mean(), label='5 ft', color='#FFB75B', alpha=0.7, bins=60)\n",
    "f6_mean_RSSI = plt.hist(f6_RSSI.mean(), label='6 ft', color='#FFFC33', alpha=0.7, bins=60)\n",
    "f7_mean_RSSI = plt.hist(f7_RSSI.mean(), label='7 ft', color='#BBFF33', alpha=0.7, bins=60)\n",
    "f8_mean_RSSI = plt.hist(f8_RSSI.mean(), label='8 ft', color='#23E623', alpha=0.7, bins=60)\n",
    "f9_mean_RSSI = plt.hist(f9_RSSI.mean(), label='9 ft', color='#40B640', alpha=0.7, bins=60)\n",
    "plt.xlabel(\"RSSI\", fontdict=font)\n",
    "plt.ylabel(\"# of Occurences\", fontdict=font)\n",
    "plt.legend()\n",
    "plt.show()"
   ]
  },
  {
   "cell_type": "markdown",
   "metadata": {},
   "source": [
    "## Larger bins (more generalized)"
   ]
  },
  {
   "cell_type": "code",
   "execution_count": 17,
   "metadata": {},
   "outputs": [
    {
     "data": {
      "image/png": "[encoded data removed]",
      "text/plain": [
       "<Figure size 432x288 with 1 Axes>"
      ]
     },
     "metadata": {
      "needs_background": "light"
     },
     "output_type": "display_data"
    }
   ],
   "source": [
    "f3_mean_RSSI = plt.hist(f3_RSSI.mean(), label='3 ft', color='#FF3333', alpha=0.7, bins=2)\n",
    "f4_mean_RSSI = plt.hist(f4_RSSI.mean(), label='4 ft', color='#FF7A41', alpha=0.7, bins=2)\n",
    "f5_mean_RSSI = plt.hist(f5_RSSI.mean(), label='5 ft', color='#FFB75B', alpha=0.7, bins=2)\n",
    "f6_mean_RSSI = plt.hist(f6_RSSI.mean(), label='6 ft', color='#FFFC33', alpha=0.7, bins=2)\n",
    "f7_mean_RSSI = plt.hist(f7_RSSI.mean(), label='7 ft', color='#BBFF33', alpha=0.7, bins=2)\n",
    "f8_mean_RSSI = plt.hist(f8_RSSI.mean(), label='8 ft', color='#23E623', alpha=0.7, bins=2)\n",
    "f9_mean_RSSI = plt.hist(f9_RSSI.mean(), label='9 ft', color='#40B640', alpha=0.7, bins=2)\n",
    "plt.xlabel(\"RSSI\", fontdict=font)\n",
    "plt.ylabel(\"# of Occurences\", fontdict=font)\n",
    "plt.legend()\n",
    "plt.show()"
   ]
  },
  {
   "cell_type": "markdown",
   "metadata": {},
   "source": [
    "## Make DataFrame with columns of distance between pis (ft), relative humidity, temperature in ºF, and RSSI values"
   ]
  },
  {
   "cell_type": "code",
   "execution_count": 18,
   "metadata": {},
   "outputs": [],
   "source": [
    "# Concatenate mean RSSI values from each distance and date\n",
    "mean_RSSI = pd.concat([f3_RSSI.mean(),\n",
    "                  f4_RSSI.mean(),\n",
    "                  f5_RSSI.mean(),\n",
    "                  f6_RSSI.mean(),\n",
    "                  f7_RSSI.mean(),\n",
    "                  f8_RSSI.mean(),\n",
    "                  f9_RSSI.mean()])\n",
    "# Generate list of distances\n",
    "ft = [3] * len(f3_RSSI.mean()) + [4] * len(f4_RSSI.mean()) + \\\n",
    "[5] * len(f5_RSSI.mean()) + [6] * len(f6_RSSI.mean()) + [7]* len(f7_RSSI.mean())\\\n",
    "+ [8] * len(f8_RSSI.mean()) + [9] * len(f9_RSSI.mean())\n",
    "\n",
    "d = {'RSSI': mean_RSSI, 'Feet': ft}\n",
    "data = pd.DataFrame(data=d) \n",
    "ind = [i for i in range(len(data))]\n",
    "data['Index'] = ind # Create a column of indexes from 0 to the length of data\n",
    "ft_RSSI = data.set_index(['Index']) # Set this column as the index."
   ]
  },
  {
   "cell_type": "code",
   "execution_count": 19,
   "metadata": {},
   "outputs": [
    {
     "data": {
      "text/html": [
       "<div>\n",
       "<style scoped>\n",
       "    .dataframe tbody tr th:only-of-type {\n",
       "        vertical-align: middle;\n",
       "    }\n",
       "\n",
       "    .dataframe tbody tr th {\n",
       "        vertical-align: top;\n",
       "    }\n",
       "\n",
       "    .dataframe thead th {\n",
       "        text-align: right;\n",
       "    }\n",
       "</style>\n",
       "<table border=\"1\" class=\"dataframe\">\n",
       "  <thead>\n",
       "    <tr style=\"text-align: right;\">\n",
       "      <th></th>\n",
       "      <th>f</th>\n",
       "      <th>h</th>\n",
       "      <th>t</th>\n",
       "      <th>RSSI</th>\n",
       "    </tr>\n",
       "    <tr>\n",
       "      <th>Index</th>\n",
       "      <th></th>\n",
       "      <th></th>\n",
       "      <th></th>\n",
       "      <th></th>\n",
       "    </tr>\n",
       "  </thead>\n",
       "  <tbody>\n",
       "    <tr>\n",
       "      <td>0</td>\n",
       "      <td>3</td>\n",
       "      <td>65.0</td>\n",
       "      <td>88.2</td>\n",
       "      <td>-52.250000</td>\n",
       "    </tr>\n",
       "    <tr>\n",
       "      <td>1</td>\n",
       "      <td>3</td>\n",
       "      <td>82.5</td>\n",
       "      <td>79.2</td>\n",
       "      <td>-51.033898</td>\n",
       "    </tr>\n",
       "    <tr>\n",
       "      <td>2</td>\n",
       "      <td>3</td>\n",
       "      <td>65.5</td>\n",
       "      <td>80.7</td>\n",
       "      <td>-60.380952</td>\n",
       "    </tr>\n",
       "    <tr>\n",
       "      <td>3</td>\n",
       "      <td>3</td>\n",
       "      <td>37.0</td>\n",
       "      <td>102.0</td>\n",
       "      <td>-56.666667</td>\n",
       "    </tr>\n",
       "    <tr>\n",
       "      <td>4</td>\n",
       "      <td>3</td>\n",
       "      <td>37.0</td>\n",
       "      <td>102.0</td>\n",
       "      <td>-56.666667</td>\n",
       "    </tr>\n",
       "    <tr>\n",
       "      <td>...</td>\n",
       "      <td>...</td>\n",
       "      <td>...</td>\n",
       "      <td>...</td>\n",
       "      <td>...</td>\n",
       "    </tr>\n",
       "    <tr>\n",
       "      <td>140</td>\n",
       "      <td>9</td>\n",
       "      <td>62.0</td>\n",
       "      <td>72.3</td>\n",
       "      <td>-58.103448</td>\n",
       "    </tr>\n",
       "    <tr>\n",
       "      <td>141</td>\n",
       "      <td>9</td>\n",
       "      <td>66.0</td>\n",
       "      <td>66.2</td>\n",
       "      <td>-62.017241</td>\n",
       "    </tr>\n",
       "    <tr>\n",
       "      <td>142</td>\n",
       "      <td>9</td>\n",
       "      <td>24.0</td>\n",
       "      <td>114.6</td>\n",
       "      <td>-54.278689</td>\n",
       "    </tr>\n",
       "    <tr>\n",
       "      <td>143</td>\n",
       "      <td>9</td>\n",
       "      <td>38.0</td>\n",
       "      <td>86.4</td>\n",
       "      <td>-54.034483</td>\n",
       "    </tr>\n",
       "    <tr>\n",
       "      <td>144</td>\n",
       "      <td>9</td>\n",
       "      <td>62.0</td>\n",
       "      <td>77.0</td>\n",
       "      <td>-62.355932</td>\n",
       "    </tr>\n",
       "  </tbody>\n",
       "</table>\n",
       "<p>145 rows × 4 columns</p>\n",
       "</div>"
      ],
      "text/plain": [
       "       f     h      t       RSSI\n",
       "Index                           \n",
       "0      3  65.0   88.2 -52.250000\n",
       "1      3  82.5   79.2 -51.033898\n",
       "2      3  65.5   80.7 -60.380952\n",
       "3      3  37.0  102.0 -56.666667\n",
       "4      3  37.0  102.0 -56.666667\n",
       "...   ..   ...    ...        ...\n",
       "140    9  62.0   72.3 -58.103448\n",
       "141    9  66.0   66.2 -62.017241\n",
       "142    9  24.0  114.6 -54.278689\n",
       "143    9  38.0   86.4 -54.034483\n",
       "144    9  62.0   77.0 -62.355932\n",
       "\n",
       "[145 rows x 4 columns]"
      ]
     },
     "execution_count": 19,
     "metadata": {},
     "output_type": "execute_result"
    }
   ],
   "source": [
    "# Store humidity and temperature from each distance and date.\n",
    "t14d1_ht = pd.read_csv(\"../Zeng_Eloise_CollectedData/day1t14/info.csv\").iloc[0:7, :]\n",
    "t18d1_ht = pd.read_csv(\"../Zeng_Eloise_CollectedData/day1t18/info.csv\").iloc[0:7, :]\n",
    "t10d2_ht = pd.read_csv(\"../Zeng_Eloise_CollectedData/day2t10/info.csv\").iloc[0:7, :]\n",
    "t12d2_ht = pd.read_csv(\"../Zeng_Eloise_CollectedData/day2t12/info.csv\").iloc[0:7, :]\n",
    "t17d2_ht = pd.read_csv(\"../Zeng_Eloise_CollectedData/day2t12/info.csv\").iloc[0:7, :]\n",
    "t20d2_ht = pd.read_csv(\"../Zeng_Eloise_CollectedData/day2t20/info.csv\").iloc[0:7, :]\n",
    "t12d3_ht = pd.read_csv(\"../Zeng_Eloise_CollectedData/day3t12/info.csv\").iloc[0:7, :]\n",
    "t16d3_ht = pd.read_csv(\"../Zeng_Eloise_CollectedData/day3t16/info.csv\").iloc[0:7, :]\n",
    "t18d3_ht = pd.read_csv(\"../Zeng_Eloise_CollectedData/day3t18/info.csv\").iloc[0:7, :]\n",
    "t20d3_ht = pd.read_csv(\"../Zeng_Eloise_CollectedData/day3t20/info.csv\").iloc[0:7, :]\n",
    "t14d4_ht = pd.read_csv(\"../Zeng_Eloise_CollectedData/day4t14/info.csv\").iloc[0:7, :]\n",
    "t18d4_ht = pd.read_csv(\"../Zeng_Eloise_CollectedData/day4t18/info.csv\").iloc[0:7, :]\n",
    "t19d4_ht = pd.read_csv(\"../Zeng_Eloise_CollectedData/day4t19/info.csv\").iloc[0:7, :]\n",
    "t12d5_ht = pd.read_csv(\"../Zeng_Eloise_CollectedData/day5t12/info.csv\").iloc[0:7, :]\n",
    "t15d5_ht = pd.read_csv(\"../Zeng_Eloise_CollectedData/day5t15/info.csv\").iloc[0:7, :]\n",
    "t18d5_ht = pd.read_csv(\"../Zeng_Eloise_CollectedData/day5t18/info.csv\").iloc[0:7, :]\n",
    "t18d5_ht = t18d5_ht.drop(1)\n",
    "t16d6_ht = pd.read_csv(\"../Zeng_Eloise_CollectedData/day6t16/info.csv\").iloc[0:7, :]\n",
    "t20d6_ht = pd.read_csv(\"../Zeng_Eloise_CollectedData/day6t20/info.csv\").iloc[0:7, :]\n",
    "t20d6_ht = t20d6_ht.drop(4)\n",
    "t12d7_ht = pd.read_csv(\"../Zeng_Eloise_CollectedData/day7t12/info.csv\").iloc[0:7, :]\n",
    "t16d7_ht = pd.read_csv(\"../Zeng_Eloise_CollectedData/day7t16/info.csv\").iloc[0:7, :]\n",
    "t19d7_ht = pd.read_csv(\"../Zeng_Eloise_CollectedData/day7t19/info.csv\").iloc[0:7, :]\n",
    "# Concatenate the Series' into a DataFrame. Columns are feet, relative humidity, and temperature in ºF (f, h, t).\n",
    "info = pd.concat([t14d1_ht, t18d1_ht, t10d2_ht, t12d2_ht, t17d2_ht, \n",
    "                  t20d2_ht, t12d3_ht, t16d3_ht, t18d3_ht, t20d3_ht,\n",
    "                  t14d4_ht, t18d4_ht, t19d4_ht, t12d5_ht, t15d5_ht, \n",
    "                  t18d5_ht, t16d6_ht, t20d6_ht, t12d7_ht, t16d7_ht,\n",
    "                  t19d7_ht], axis=0, sort=False)\n",
    "info = info.astype(float) # Convert dtype to float for sorting the rows\n",
    "info = info.astype({'f': 'int32'})\n",
    "info = info.sort_values('f', kind='mergesort') \n",
    "info['Index'] = ind\n",
    "info = info.set_index(['Index'])\n",
    "# Concatenate info and ft_RSSI so we have the columns ['f', 'h', 't', 'RSSI', 'Feet']\n",
    "data = pd.concat([info, ft_RSSI], axis=1) \n",
    "data = data.drop('Feet', axis=1) # Drop duplicate Feet column\n",
    "data"
   ]
  },
  {
   "cell_type": "markdown",
   "metadata": {},
   "source": [
    "<p style='font-size:1.5rem;line-height:1.5'>\n",
    "<br> \n",
    "</p>\n"
   ]
  },
  {
   "cell_type": "code",
   "execution_count": 20,
   "metadata": {},
   "outputs": [
    {
     "data": {
      "text/html": [
       "<div>\n",
       "<style scoped>\n",
       "    .dataframe tbody tr th:only-of-type {\n",
       "        vertical-align: middle;\n",
       "    }\n",
       "\n",
       "    .dataframe tbody tr th {\n",
       "        vertical-align: top;\n",
       "    }\n",
       "\n",
       "    .dataframe thead th {\n",
       "        text-align: right;\n",
       "    }\n",
       "</style>\n",
       "<table border=\"1\" class=\"dataframe\">\n",
       "  <thead>\n",
       "    <tr style=\"text-align: right;\">\n",
       "      <th></th>\n",
       "      <th>humidity</th>\n",
       "      <th>temperature</th>\n",
       "      <th>RSSI</th>\n",
       "      <th>tctl</th>\n",
       "    </tr>\n",
       "    <tr>\n",
       "      <th>Index</th>\n",
       "      <th></th>\n",
       "      <th></th>\n",
       "      <th></th>\n",
       "      <th></th>\n",
       "    </tr>\n",
       "  </thead>\n",
       "  <tbody>\n",
       "    <tr>\n",
       "      <td>0</td>\n",
       "      <td>65.0</td>\n",
       "      <td>88.2</td>\n",
       "      <td>-52.250000</td>\n",
       "      <td>1</td>\n",
       "    </tr>\n",
       "    <tr>\n",
       "      <td>1</td>\n",
       "      <td>82.5</td>\n",
       "      <td>79.2</td>\n",
       "      <td>-51.033898</td>\n",
       "      <td>1</td>\n",
       "    </tr>\n",
       "    <tr>\n",
       "      <td>2</td>\n",
       "      <td>65.5</td>\n",
       "      <td>80.7</td>\n",
       "      <td>-60.380952</td>\n",
       "      <td>1</td>\n",
       "    </tr>\n",
       "    <tr>\n",
       "      <td>3</td>\n",
       "      <td>37.0</td>\n",
       "      <td>102.0</td>\n",
       "      <td>-56.666667</td>\n",
       "      <td>1</td>\n",
       "    </tr>\n",
       "    <tr>\n",
       "      <td>4</td>\n",
       "      <td>37.0</td>\n",
       "      <td>102.0</td>\n",
       "      <td>-56.666667</td>\n",
       "      <td>1</td>\n",
       "    </tr>\n",
       "    <tr>\n",
       "      <td>...</td>\n",
       "      <td>...</td>\n",
       "      <td>...</td>\n",
       "      <td>...</td>\n",
       "      <td>...</td>\n",
       "    </tr>\n",
       "    <tr>\n",
       "      <td>140</td>\n",
       "      <td>62.0</td>\n",
       "      <td>72.3</td>\n",
       "      <td>-58.103448</td>\n",
       "      <td>0</td>\n",
       "    </tr>\n",
       "    <tr>\n",
       "      <td>141</td>\n",
       "      <td>66.0</td>\n",
       "      <td>66.2</td>\n",
       "      <td>-62.017241</td>\n",
       "      <td>0</td>\n",
       "    </tr>\n",
       "    <tr>\n",
       "      <td>142</td>\n",
       "      <td>24.0</td>\n",
       "      <td>114.6</td>\n",
       "      <td>-54.278689</td>\n",
       "      <td>0</td>\n",
       "    </tr>\n",
       "    <tr>\n",
       "      <td>143</td>\n",
       "      <td>38.0</td>\n",
       "      <td>86.4</td>\n",
       "      <td>-54.034483</td>\n",
       "      <td>0</td>\n",
       "    </tr>\n",
       "    <tr>\n",
       "      <td>144</td>\n",
       "      <td>62.0</td>\n",
       "      <td>77.0</td>\n",
       "      <td>-62.355932</td>\n",
       "      <td>0</td>\n",
       "    </tr>\n",
       "  </tbody>\n",
       "</table>\n",
       "<p>145 rows × 4 columns</p>\n",
       "</div>"
      ],
      "text/plain": [
       "       humidity  temperature       RSSI  tctl\n",
       "Index                                        \n",
       "0          65.0         88.2 -52.250000     1\n",
       "1          82.5         79.2 -51.033898     1\n",
       "2          65.5         80.7 -60.380952     1\n",
       "3          37.0        102.0 -56.666667     1\n",
       "4          37.0        102.0 -56.666667     1\n",
       "...         ...          ...        ...   ...\n",
       "140        62.0         72.3 -58.103448     0\n",
       "141        66.0         66.2 -62.017241     0\n",
       "142        24.0        114.6 -54.278689     0\n",
       "143        38.0         86.4 -54.034483     0\n",
       "144        62.0         77.0 -62.355932     0\n",
       "\n",
       "[145 rows x 4 columns]"
      ]
     },
     "execution_count": 20,
     "metadata": {},
     "output_type": "execute_result"
    }
   ],
   "source": [
    "data.to_csv('pi_pact_data_ft.csv', index=False) # Save data as csv\n",
    "# Distances are in column f. If distance is less than or equal to 6, set distance to 1. If distance > 6, set distance to 0. \n",
    "data.loc[data['f'] <= 6, 'f'] = 1 # 1 means the pis were too close to each other.  \n",
    "data.loc[data['f'] > 6, 'f'] = 0 # 0 means the pis were far enough.\n",
    "# People who meet too close for too long (less than or equal to 6 ft apart for more than 10 minutes), \n",
    "# are likely to contract illnesses from each other (if they have any).\n",
    "data.columns = ['tctl', 'humidity', 'temperature', 'RSSI'] # Rename column 'f' to 'tctl'. Too Close for Too Long\n",
    "data = data[['humidity', 'temperature', 'RSSI', 'tctl']] # Move column tctl to far right.\n",
    "data.to_csv('pi_pact_data.csv', index=False) # Save DataFrame to csv\n",
    "data"
   ]
  },
  {
   "cell_type": "code",
   "execution_count": 21,
   "metadata": {},
   "outputs": [
    {
     "data": {
      "image/png": "[encoded data removed]",
      "text/plain": [
       "<Figure size 432x288 with 1 Axes>"
      ]
     },
     "metadata": {
      "needs_background": "light"
     },
     "output_type": "display_data"
    }
   ],
   "source": [
    "# Plot histogram of mean RSSI values from each scan.\n",
    "too_close = pd.concat([f3_RSSI.mean(), f4_RSSI.mean(), f5_RSSI.mean(), \n",
    "                        f6_RSSI.mean()])\n",
    "far = pd.concat([f7_RSSI.mean(), f8_RSSI.mean(), f9_RSSI.mean()])\n",
    "tctl = plt.hist(too_close, label='close', alpha=0.5, color='r', bins=10)\n",
    "tctl = plt.hist(far, label='far', alpha=0.5, color='g', bins=10)\n",
    "plt.xlabel(\"RSSI\", fontdict=font)\n",
    "plt.ylabel(\"# of Occurences\", fontdict=font)\n",
    "plt.legend()\n",
    "plt.show()"
   ]
  },
  {
   "cell_type": "code",
   "execution_count": null,
   "metadata": {},
   "outputs": [],
   "source": []
  }
 ],
 "metadata": {
  "kernelspec": {
   "display_name": "Python 3",
   "language": "python",
   "name": "python3"
  },
  "language_info": {
   "codemirror_mode": {
    "name": "ipython",
    "version": 3
   },
   "file_extension": ".py",
   "mimetype": "text/x-python",
   "name": "python",
   "nbconvert_exporter": "python",
   "pygments_lexer": "ipython3",
   "version": "3.7.4"
  }
 },
 "nbformat": 4,
 "nbformat_minor": 4
}
